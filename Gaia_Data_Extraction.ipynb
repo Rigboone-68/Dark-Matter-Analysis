{
  "nbformat": 4,
  "nbformat_minor": 0,
  "metadata": {
    "colab": {
      "provenance": [],
      "authorship_tag": "ABX9TyPxQCasizdjjBHLU4FHctQb",
      "include_colab_link": true
    },
    "kernelspec": {
      "name": "python3",
      "display_name": "Python 3"
    },
    "language_info": {
      "name": "python"
    }
  },
  "cells": [
    {
      "cell_type": "markdown",
      "metadata": {
        "id": "view-in-github",
        "colab_type": "text"
      },
      "source": [
        "<a href=\"https://colab.research.google.com/github/Rigboone-68/Dark-Matter-Analysis/blob/main/Gaia_Data_Extraction.ipynb\" target=\"_parent\"><img src=\"https://colab.research.google.com/assets/colab-badge.svg\" alt=\"Open In Colab\"/></a>"
      ]
    },
    {
      "cell_type": "code",
      "execution_count": 2,
      "metadata": {
        "colab": {
          "base_uri": "https://localhost:8080/"
        },
        "id": "lPpsq7SY3CIK",
        "outputId": "1cc16781-b24b-4672-fd54-5bee5caf0a7c"
      },
      "outputs": [
        {
          "output_type": "stream",
          "name": "stdout",
          "text": [
            "             SOURCE_ID          ra        dec  parallax      pmra     pmdec  \\\n",
            "0  4052307003895216512  275.430005 -27.162098  0.124304 -3.419536 -6.489931   \n",
            "1  3001468183198140800   94.630312 -10.632227  4.520103 -1.648670 -0.197152   \n",
            "2  4313545645245332864  286.139480  12.043162  0.783336 -0.678456  0.764821   \n",
            "3  4255077877498765696  281.903655  -5.076782  0.994220 -2.216158 -2.891394   \n",
            "4   670746696180987648  121.677030  21.126505  1.002062  0.600821  2.914811   \n",
            "\n",
            "   radial_velocity  phot_g_mean_mag     bp_rp      bp_g      g_rp  \n",
            "0      -906.607117        15.199676  2.042150  1.036670  1.005481  \n",
            "1      -885.203186        15.237138  2.079417  1.057183  1.022234  \n",
            "2      -878.916260        14.897272  1.593888  0.744636  0.849253  \n",
            "3      -877.844543        15.591184  1.896343  0.776883  1.119460  \n",
            "4      -871.404053        14.852939  0.846621  0.337366  0.509254  \n"
          ]
        }
      ],
      "source": [
        "# Query the Gaia Archive\n",
        "def query_gaia_data():\n",
        "    query = \"\"\"\n",
        "    SELECT TOP 10000\n",
        "        source_id,\n",
        "        ra, dec, parallax, pmra, pmdec, radial_velocity,\n",
        "        phot_g_mean_mag, bp_rp, bp_g, g_rp\n",
        "    FROM gaiadr3.gaia_source\n",
        "    WHERE parallax IS NOT NULL\n",
        "    AND radial_velocity IS NOT NULL\n",
        "    AND pmra IS NOT NULL\n",
        "    AND pmdec IS NOT NULL\n",
        "    \"\"\"\n",
        "\n",
        "    job = Gaia.launch_job(query)\n",
        "    gaia_data = job.get_results()\n",
        "    return gaia_data\n",
        "\n",
        "# Convert the results to a pandas DataFrame for further analysis\n",
        "gaia_data = query_gaia_data().to_pandas()\n",
        "\n",
        "# Show the first few rows of the dataset\n",
        "print(gaia_data.head())\n",
        "\n",
        "# Save the dataset to a CSV for further use\n",
        "gaia_data.to_csv('gaia_data.csv', index=False)\n"
      ]
    },
    {
      "cell_type": "code",
      "source": [
        "# Check the number of datapoints in the dataset\n",
        "num_datapoints = len(gaia_data)\n",
        "print(f\"Number of datapoints in the dataset: {num_datapoints}\")\n"
      ],
      "metadata": {
        "colab": {
          "base_uri": "https://localhost:8080/"
        },
        "id": "2HsikRV64RDl",
        "outputId": "ae159076-9f76-42ac-f5db-c3f34dce8c85"
      },
      "execution_count": 3,
      "outputs": [
        {
          "output_type": "stream",
          "name": "stdout",
          "text": [
            "Number of datapoints in the dataset: 10000\n"
          ]
        }
      ]
    },
    {
      "cell_type": "code",
      "source": [
        "# Convert the results to a pandas DataFrame for further analysis\n",
        "gaia_data = query_gaia_data().to_pandas()\n",
        "\n",
        "# Check the number of datapoints\n",
        "num_datapoints = len(gaia_data)\n",
        "print(f\"Number of datapoints in the dataset: {num_datapoints}\")\n",
        "\n",
        "# Show the first few rows of the dataset\n",
        "print(gaia_data.head())\n"
      ],
      "metadata": {
        "colab": {
          "base_uri": "https://localhost:8080/"
        },
        "id": "PWgTpk5A4aiZ",
        "outputId": "9b8f95f7-0349-48a3-b201-1f1d72fa4262"
      },
      "execution_count": 4,
      "outputs": [
        {
          "output_type": "stream",
          "name": "stdout",
          "text": [
            "Number of datapoints in the dataset: 10000\n",
            "             SOURCE_ID          ra        dec  parallax      pmra     pmdec  \\\n",
            "0  4052307003895216512  275.430005 -27.162098  0.124304 -3.419536 -6.489931   \n",
            "1  3001468183198140800   94.630312 -10.632227  4.520103 -1.648670 -0.197152   \n",
            "2  4313545645245332864  286.139480  12.043162  0.783336 -0.678456  0.764821   \n",
            "3  4255077877498765696  281.903655  -5.076782  0.994220 -2.216158 -2.891394   \n",
            "4   670746696180987648  121.677030  21.126505  1.002062  0.600821  2.914811   \n",
            "\n",
            "   radial_velocity  phot_g_mean_mag     bp_rp      bp_g      g_rp  \n",
            "0      -906.607117        15.199676  2.042150  1.036670  1.005481  \n",
            "1      -885.203186        15.237138  2.079417  1.057183  1.022234  \n",
            "2      -878.916260        14.897272  1.593888  0.744636  0.849253  \n",
            "3      -877.844543        15.591184  1.896343  0.776883  1.119460  \n",
            "4      -871.404053        14.852939  0.846621  0.337366  0.509254  \n"
          ]
        }
      ]
    },
    {
      "cell_type": "code",
      "source": [
        "# Import necessary libraries\n",
        "from astroquery.gaia import Gaia\n",
        "import pandas as pd\n",
        "\n",
        "# Function to query Gaia DR3\n",
        "def query_gaia_dr3():\n",
        "    query = \"\"\"\n",
        "    SELECT TOP 10000\n",
        "        source_id,\n",
        "        ra, dec, parallax, pmra, pmdec, radial_velocity,\n",
        "        phot_g_mean_mag, bp_rp, bp_g, g_rp\n",
        "    FROM gaiadr3.gaia_source\n",
        "    WHERE parallax IS NOT NULL\n",
        "    AND radial_velocity IS NOT NULL\n",
        "    AND pmra IS NOT NULL\n",
        "    AND pmdec IS NOT NULL\n",
        "    \"\"\"\n",
        "\n",
        "    # Launch the job to query the data from Gaia DR3\n",
        "    job = Gaia.launch_job(query)\n",
        "    gaia_data = job.get_results()\n",
        "    return gaia_data\n",
        "\n",
        "# Convert the result to pandas DataFrame\n",
        "gaia_data = query_gaia_dr3().to_pandas()\n",
        "\n",
        "# Show the first few rows of the dataset\n",
        "print(gaia_data.head())\n",
        "\n",
        "# Optionally save the data to a CSV file for local storage\n",
        "gaia_data.to_csv('gaia_dr3_data.csv', index=False)\n"
      ],
      "metadata": {
        "colab": {
          "base_uri": "https://localhost:8080/"
        },
        "id": "ruXdnMsc42_8",
        "outputId": "139c2f7c-108f-48f2-b126-4ecd4bd7fea0"
      },
      "execution_count": 5,
      "outputs": [
        {
          "output_type": "stream",
          "name": "stdout",
          "text": [
            "             SOURCE_ID          ra        dec  parallax      pmra     pmdec  \\\n",
            "0  4052307003895216512  275.430005 -27.162098  0.124304 -3.419536 -6.489931   \n",
            "1  3001468183198140800   94.630312 -10.632227  4.520103 -1.648670 -0.197152   \n",
            "2  4313545645245332864  286.139480  12.043162  0.783336 -0.678456  0.764821   \n",
            "3  4255077877498765696  281.903655  -5.076782  0.994220 -2.216158 -2.891394   \n",
            "4   670746696180987648  121.677030  21.126505  1.002062  0.600821  2.914811   \n",
            "\n",
            "   radial_velocity  phot_g_mean_mag     bp_rp      bp_g      g_rp  \n",
            "0      -906.607117        15.199676  2.042150  1.036670  1.005481  \n",
            "1      -885.203186        15.237138  2.079417  1.057183  1.022234  \n",
            "2      -878.916260        14.897272  1.593888  0.744636  0.849253  \n",
            "3      -877.844543        15.591184  1.896343  0.776883  1.119460  \n",
            "4      -871.404053        14.852939  0.846621  0.337366  0.509254  \n"
          ]
        }
      ]
    },
    {
      "cell_type": "code",
      "source": [
        "# Import necessary libraries\n",
        "from astroquery.gaia import Gaia\n",
        "import pandas as pd\n",
        "\n",
        "# Function to query Gaia DR2\n",
        "def query_gaia_dr2():\n",
        "    query = \"\"\"\n",
        "    SELECT TOP 10000\n",
        "        source_id,\n",
        "        ra, dec, parallax, pmra, pmdec, radial_velocity,\n",
        "        phot_g_mean_mag, bp_rp, bp_g, g_rp\n",
        "    FROM gaiadr2.gaia_source\n",
        "    WHERE parallax IS NOT NULL\n",
        "    AND radial_velocity IS NOT NULL\n",
        "    AND pmra IS NOT NULL\n",
        "    AND pmdec IS NOT NULL\n",
        "    \"\"\"\n",
        "\n",
        "    # Launch the job to query the data from Gaia DR2\n",
        "    job = Gaia.launch_job(query)\n",
        "    gaia_data = job.get_results()\n",
        "    return gaia_data\n",
        "\n",
        "# Convert the result to pandas DataFrame\n",
        "gaia_data = query_gaia_dr2().to_pandas()\n",
        "\n",
        "# Show the first few rows of the dataset\n",
        "print(gaia_data.head())\n",
        "\n",
        "# Optionally save the data to a CSV file for local storage\n",
        "gaia_data.to_csv('gaia_dr2_data.csv', index=False)\n"
      ],
      "metadata": {
        "colab": {
          "base_uri": "https://localhost:8080/"
        },
        "id": "HsdOmaI75ioH",
        "outputId": "67f76f11-d740-4485-97b5-9a96b09e53e3"
      },
      "execution_count": 6,
      "outputs": [
        {
          "output_type": "stream",
          "name": "stdout",
          "text": [
            "             SOURCE_ID          ra        dec  parallax      pmra     pmdec  \\\n",
            "0  5933266834310007808  242.471074 -52.806533 -0.108158 -5.696558 -4.721763   \n",
            "1  4658865791827681536   79.856705 -67.346422 -0.048722  1.609151  0.097323   \n",
            "2  4103049637327213440  278.887615 -15.350780  0.043251 -1.918747 -2.489130   \n",
            "3  5951114420631264640  260.139995 -46.794507  0.987297  2.684643  2.938682   \n",
            "4  5966712023814100736  255.893150 -41.563702  0.794860  1.408253 -3.243735   \n",
            "\n",
            "   radial_velocity  phot_g_mean_mag     bp_rp      bp_g      g_rp  \n",
            "0      -999.282616        18.083382  3.561571  1.613316  1.948256  \n",
            "1      -987.492166        17.423346  1.388601  0.583855  0.804747  \n",
            "2      -986.247661        16.126408  2.218030  1.074942  1.143088  \n",
            "3      -984.274896        15.499906  1.148712  0.489635  0.659078  \n",
            "4      -967.749688        16.207378  1.789083  0.869539  0.919543  \n"
          ]
        }
      ]
    },
    {
      "cell_type": "code",
      "source": [
        "# Import necessary libraries\n",
        "from astroquery.gaia import Gaia\n",
        "import pandas as pd\n",
        "\n",
        "# Function to query Gaia DR2 for Andromeda\n",
        "def query_gaia_dr2_andromeda():\n",
        "    query = \"\"\"\n",
        "    SELECT TOP 10000\n",
        "        source_id,\n",
        "        ra, dec, parallax, pmra, pmdec, radial_velocity,\n",
        "        phot_g_mean_mag, bp_rp, bp_g, g_rp\n",
        "    FROM gaiadr2.gaia_source\n",
        "    WHERE 1=CONTAINS(\n",
        "        POINT('ICRS', ra, dec),\n",
        "        CIRCLE('ICRS', 10.6847, 41.2692, 1.0)) -- RA, Dec, Radius (deg)\n",
        "    AND parallax IS NOT NULL\n",
        "    AND radial_velocity IS NOT NULL\n",
        "    AND pmra IS NOT NULL\n",
        "    AND pmdec IS NOT NULL\n",
        "    \"\"\"\n",
        "\n",
        "    # Launch the job to query Gaia DR2 data around Andromeda\n",
        "    job = Gaia.launch_job(query)\n",
        "    gaia_data = job.get_results()\n",
        "    return gaia_data\n",
        "\n",
        "# Convert the result to pandas DataFrame\n",
        "gaia_data_andromeda_dr2 = query_gaia_dr2_andromeda().to_pandas()\n",
        "\n",
        "# Show the first few rows of the dataset\n",
        "print(gaia_data_andromeda_dr2.head())\n",
        "\n",
        "# Optionally save the data to a CSV file for local storage\n",
        "gaia_data_andromeda_dr2.to_csv('gaia_dr2_andromeda_data.csv', index=False)\n"
      ],
      "metadata": {
        "colab": {
          "base_uri": "https://localhost:8080/"
        },
        "id": "-MNduRpm-9PE",
        "outputId": "8cc21ec9-978e-4afb-9cf7-c86e47fb4489"
      },
      "execution_count": 7,
      "outputs": [
        {
          "output_type": "stream",
          "name": "stdout",
          "text": [
            "            SOURCE_ID         ra        dec  parallax       pmra      pmdec  \\\n",
            "0  375306611831257856  11.511173  42.014265  0.528876  -6.600933  -6.129983   \n",
            "1  375297785672794112  11.441583  41.822339  1.516004   0.982509  10.922881   \n",
            "2  375213153341966976  11.954591  41.273172  1.428186  -9.106195  -6.254658   \n",
            "3  375291738360780416  11.634611  41.865594  1.542578 -14.608053  -5.565074   \n",
            "4  375230195772190720  11.685254  41.474360  1.211096   9.805424  -8.137402   \n",
            "\n",
            "   radial_velocity  phot_g_mean_mag     bp_rp      bp_g      g_rp  \n",
            "0       -97.020578        11.688778  1.342236  0.616655  0.725580  \n",
            "1        -9.072823        11.264130  1.183434  0.538257  0.645178  \n",
            "2       -21.048189        11.974344  0.587844  0.223620  0.364223  \n",
            "3       -12.479551        12.239005  0.707067  0.276216  0.430851  \n",
            "4        -4.705338        11.490178  0.634129  0.248355  0.385774  \n"
          ]
        }
      ]
    },
    {
      "cell_type": "code",
      "source": [
        "# Function to query Gaia DR3 for Andromeda\n",
        "def query_gaia_dr3_andromeda():\n",
        "    query = \"\"\"\n",
        "    SELECT TOP 10000\n",
        "        source_id,\n",
        "        ra, dec, parallax, pmra, pmdec, radial_velocity,\n",
        "        phot_g_mean_mag, bp_rp, bp_g, g_rp\n",
        "    FROM gaiadr3.gaia_source\n",
        "    WHERE 1=CONTAINS(\n",
        "        POINT('ICRS', ra, dec),\n",
        "        CIRCLE('ICRS', 10.6847, 41.2692, 1.0)) -- RA, Dec, Radius (deg)\n",
        "    AND parallax IS NOT NULL\n",
        "    AND radial_velocity IS NOT NULL\n",
        "    AND pmra IS NOT NULL\n",
        "    AND pmdec IS NOT NULL\n",
        "    \"\"\"\n",
        "\n",
        "    # Launch the job to query Gaia DR3 data around Andromeda\n",
        "    job = Gaia.launch_job(query)\n",
        "    gaia_data = job.get_results()\n",
        "    return gaia_data\n",
        "\n",
        "# Convert the result to pandas DataFrame\n",
        "gaia_data_andromeda_dr3 = query_gaia_dr3_andromeda().to_pandas()\n",
        "\n",
        "# Show the first few rows of the dataset\n",
        "print(gaia_data_andromeda_dr3.head())\n",
        "\n",
        "# Optionally save the data to a CSV file for local storage\n",
        "gaia_data_andromeda_dr3.to_csv('gaia_dr3_andromeda_data.csv', index=False)\n"
      ],
      "metadata": {
        "colab": {
          "base_uri": "https://localhost:8080/"
        },
        "id": "k3w7ntpy_B4L",
        "outputId": "6916d4ef-7dd2-4f34-c1d9-99ba8b3ac7d9"
      },
      "execution_count": 8,
      "outputs": [
        {
          "output_type": "stream",
          "name": "stdout",
          "text": [
            "            SOURCE_ID         ra        dec  parallax       pmra      pmdec  \\\n",
            "0  387309602313648128  11.250524  41.825224  2.697785   7.930500  -9.160462   \n",
            "1  387310534323330176  11.214082  41.926626  1.002372  15.473005 -12.928136   \n",
            "2  387310946640191616  11.122312  41.894962  1.726542   2.390408  -5.387884   \n",
            "3  387310946640225024  11.130674  41.900615  0.974492  11.837578   0.637081   \n",
            "4  387311015359667200  11.105863  41.910578  0.970347  11.330061  -2.973750   \n",
            "\n",
            "   radial_velocity  phot_g_mean_mag     bp_rp      bp_g      g_rp  \n",
            "0         4.172638        12.353510  0.780390  0.309783  0.470607  \n",
            "1       -50.888329        14.886031  1.306108  0.521309  0.784799  \n",
            "2        14.943662        13.992082  0.944236  0.377988  0.566248  \n",
            "3        14.497892        14.488839  0.821425  0.328615  0.492810  \n",
            "4       -32.836170        14.082844  0.781359  0.312074  0.469285  \n"
          ]
        }
      ]
    }
  ]
}