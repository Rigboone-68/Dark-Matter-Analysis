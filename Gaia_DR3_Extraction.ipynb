{
  "cells": [
    {
      "cell_type": "markdown",
      "metadata": {
        "id": "view-in-github",
        "colab_type": "text"
      },
      "source": [
        "<a href=\"https://colab.research.google.com/github/Rigboone-68/Dark-Matter-Analysis/blob/main/Gaia_DR3_Extraction.ipynb\" target=\"_parent\"><img src=\"https://colab.research.google.com/assets/colab-badge.svg\" alt=\"Open In Colab\"/></a>"
      ]
    },
    {
      "cell_type": "markdown",
      "metadata": {
        "id": "wrf8aDubKU1j"
      },
      "source": [
        "Load the Dataset:\n",
        "\n",
        "Import the dataset into a Colab notebook.\n",
        "\n",
        "Use pandas to load and preview the data.\n",
        "\n",
        "Check the shape of the dataset and the column names."
      ]
    },
    {
      "cell_type": "code",
      "execution_count": null,
      "metadata": {
        "colab": {
          "base_uri": "https://localhost:8080/"
        },
        "id": "tjFiZoUIIfYV",
        "outputId": "43200ba5-bfbf-4734-80d3-a43e117e2bc5"
      },
      "outputs": [
        {
          "name": "stdout",
          "output_type": "stream",
          "text": [
            "     RA_ICRS   DE_ICRS            Source     Plx      PM   pmRA    pmDE  \\\n",
            "0  47.451110  2.205457   740830319452928  1.1750   8.488  2.263  -8.181   \n",
            "1  44.375187  2.895901  1402912413121792  1.8937  16.954  7.031 -15.427   \n",
            "2  42.959304  2.920459  1546703623466880  2.9732   2.528  1.795   1.780   \n",
            "3  44.031079  3.203683  1614053005633024  2.2337  10.776 -3.151 -10.305   \n",
            "4  45.463599  3.138095  1753553543188992  4.0179  10.053  1.828   9.885   \n",
            "\n",
            "        Gmag    e_Gmag      BPmag  ...      G-RP     pscol    Teff      Dist  \\\n",
            "0  10.966603  0.002786  11.007946  ...  0.090974  1.452694  9406.7  918.2012   \n",
            "1  10.369156  0.002801  10.441856  ...  0.163792  1.452694  9348.7  679.7121   \n",
            "2  10.038978  0.002774  10.212755  ...  0.304139  1.452694  7520.7  339.8108   \n",
            "3   9.810181  0.002786  10.008457  ...  0.338961  1.595600  7052.3  433.9715   \n",
            "4   8.163041  0.002800   8.197672  ...  0.091842  1.452694  9982.8  251.2483   \n",
            "\n",
            "      Rad  Lum-Flame  Mass-Flame  Age-Flame   z-Flame  SpType-ELS  \n",
            "0  2.3686  33.161472       2.255      0.404  0.527215     A        \n",
            "1  2.4642  25.817343       2.157      0.336  0.638083     A        \n",
            "2  1.9321  10.527038       1.688      1.033  0.507551     A        \n",
            "3  2.9735  20.801886       1.923      1.124  0.368294     A        \n",
            "4  2.2829  45.868046       2.447      0.320  0.509338     A        \n",
            "\n",
            "[5 rows x 27 columns]\n",
            "<class 'pandas.core.frame.DataFrame'>\n",
            "RangeIndex: 44706 entries, 0 to 44705\n",
            "Data columns (total 27 columns):\n",
            " #   Column      Non-Null Count  Dtype  \n",
            "---  ------      --------------  -----  \n",
            " 0   RA_ICRS     44706 non-null  float64\n",
            " 1   DE_ICRS     44706 non-null  float64\n",
            " 2   Source      44706 non-null  int64  \n",
            " 3   Plx         44706 non-null  float64\n",
            " 4   PM          44706 non-null  float64\n",
            " 5   pmRA        44706 non-null  float64\n",
            " 6   pmDE        44706 non-null  float64\n",
            " 7   Gmag        44706 non-null  float64\n",
            " 8   e_Gmag      44706 non-null  float64\n",
            " 9   BPmag       44706 non-null  float64\n",
            " 10  e_BPmag     44705 non-null  float64\n",
            " 11  RPmag       44705 non-null  float64\n",
            " 12  e_RPmag     44705 non-null  float64\n",
            " 13  GRVSmag     44705 non-null  float64\n",
            " 14  e_GRVSmag   44705 non-null  float64\n",
            " 15  BP-RP       44705 non-null  float64\n",
            " 16  BP-G        44705 non-null  float64\n",
            " 17  G-RP        44705 non-null  float64\n",
            " 18  pscol       44705 non-null  float64\n",
            " 19  Teff        44705 non-null  float64\n",
            " 20  Dist        44705 non-null  float64\n",
            " 21  Rad         44705 non-null  float64\n",
            " 22  Lum-Flame   44705 non-null  float64\n",
            " 23  Mass-Flame  44705 non-null  float64\n",
            " 24  Age-Flame   44705 non-null  float64\n",
            " 25  z-Flame     44705 non-null  float64\n",
            " 26  SpType-ELS  44705 non-null  object \n",
            "dtypes: float64(25), int64(1), object(1)\n",
            "memory usage: 9.2+ MB\n",
            "None\n",
            "            RA_ICRS       DE_ICRS        Source           Plx            PM  \\\n",
            "count  44706.000000  44706.000000  4.470600e+04  44706.000000  44706.000000   \n",
            "mean     119.802633     45.206726  7.974260e+17      1.605872      7.412209   \n",
            "std      114.086448     16.036426  6.317813e+17      1.609078      9.322961   \n",
            "min        0.003018      0.157002  7.408303e+14      0.021500      0.013000   \n",
            "25%       36.817893     34.532742  3.385776e+17      0.832800      2.982000   \n",
            "50%       72.134682     45.419432  5.058221e+17      1.228000      5.121000   \n",
            "75%      182.177048     56.908846  1.157057e+18      1.794575      8.514000   \n",
            "max      359.973731     89.502216  1.969554e+18     68.001000    489.164000   \n",
            "\n",
            "               pmRA          pmDE          Gmag        e_Gmag         BPmag  \\\n",
            "count  44706.000000  44706.000000  44706.000000  44706.000000  44706.000000   \n",
            "mean      -0.022575     -3.924748     11.735130      0.002824     11.990726   \n",
            "std        8.703661      7.120499      1.736703      0.000467      1.878641   \n",
            "min     -439.836000   -214.071000      3.120973      0.002757      3.418268   \n",
            "25%       -2.804750     -5.790000     10.779426      0.002764     10.935240   \n",
            "50%       -0.132000     -3.019000     11.775184      0.002771     11.973826   \n",
            "75%        2.344000     -0.968000     12.490018      0.002783     12.823836   \n",
            "max      151.021000    203.597000     15.832671      0.024774     18.045105   \n",
            "\n",
            "       ...          BP-G          G-RP         pscol          Teff  \\\n",
            "count  ...  44705.000000  44705.000000  44705.000000  44705.000000   \n",
            "mean   ...      0.255592      0.390207      1.461905   8023.473916   \n",
            "std    ...      0.190505      0.205079      0.040932    843.384338   \n",
            "min    ...     -0.061597     -0.018756      1.156500   4485.100000   \n",
            "25%    ...      0.133278      0.249220      1.452694   7408.100000   \n",
            "50%    ...      0.197033      0.341090      1.452694   7823.100000   \n",
            "75%    ...      0.306588      0.485112      1.452694   8712.000000   \n",
            "max    ...      2.212434      1.359707      1.919400  11342.900000   \n",
            "\n",
            "               Dist           Rad     Lum-Flame    Mass-Flame     Age-Flame  \\\n",
            "count  44705.000000  44705.000000  44705.000000  44705.000000  44705.000000   \n",
            "mean    1012.074406      2.578334     27.357981      1.983339      0.760307   \n",
            "std      786.347745      1.342956     30.803384      0.343226      0.338487   \n",
            "min       14.775400      0.527000      0.235342      0.726000      0.200000   \n",
            "25%      555.595000      1.863300     11.140222      1.717000      0.479000   \n",
            "50%      810.882600      2.222200     18.108044      1.913000      0.752000   \n",
            "75%     1203.965600      2.807200     31.810420      2.185000      0.995000   \n",
            "max    12644.302000     44.359600   1107.209600      3.752000     13.263000   \n",
            "\n",
            "            z-Flame  \n",
            "count  44705.000000  \n",
            "mean       0.489653  \n",
            "std        0.118868  \n",
            "min        0.068180  \n",
            "25%        0.413048  \n",
            "50%        0.488986  \n",
            "75%        0.562250  \n",
            "max        0.938986  \n",
            "\n",
            "[8 rows x 26 columns]\n"
          ]
        }
      ],
      "source": [
        "import pandas as pd\n",
        "\n",
        "# Load the dataset\n",
        "file_path = \"/content/cleaned_gaia_data.csv\"\n",
        "data = pd.read_csv(file_path)\n",
        "\n",
        "# Preview the dataset\n",
        "print(data.head())\n",
        "print(data.info())\n",
        "print(data.describe())\n"
      ]
    },
    {
      "cell_type": "markdown",
      "metadata": {
        "id": "pxgTho9EKgm1"
      },
      "source": [
        "Check Missing Data:\n",
        "\n",
        "Identify missing values using data.isnull().sum()."
      ]
    },
    {
      "cell_type": "code",
      "execution_count": null,
      "metadata": {
        "colab": {
          "base_uri": "https://localhost:8080/"
        },
        "id": "1Ph7fTPkKNp3",
        "outputId": "2746bcea-cf70-42a2-aea9-033be02dd8af"
      },
      "outputs": [
        {
          "name": "stdout",
          "output_type": "stream",
          "text": [
            "RA_ICRS       0\n",
            "DE_ICRS       0\n",
            "Source        0\n",
            "Plx           0\n",
            "PM            0\n",
            "pmRA          0\n",
            "pmDE          0\n",
            "Gmag          0\n",
            "e_Gmag        0\n",
            "BPmag         0\n",
            "e_BPmag       1\n",
            "RPmag         1\n",
            "e_RPmag       1\n",
            "GRVSmag       1\n",
            "e_GRVSmag     1\n",
            "BP-RP         1\n",
            "BP-G          1\n",
            "G-RP          1\n",
            "pscol         1\n",
            "Teff          1\n",
            "Dist          1\n",
            "Rad           1\n",
            "Lum-Flame     1\n",
            "Mass-Flame    1\n",
            "Age-Flame     1\n",
            "z-Flame       1\n",
            "SpType-ELS    1\n",
            "dtype: int64\n"
          ]
        }
      ],
      "source": [
        "# Check for missing values\n",
        "print(data.isnull().sum())\n"
      ]
    },
    {
      "cell_type": "code",
      "execution_count": null,
      "metadata": {
        "colab": {
          "background_save": true,
          "base_uri": "https://localhost:8080/",
          "height": 356
        },
        "id": "ux25MB9VKkzm",
        "outputId": "93cc4f59-6464-4049-8cda-b9403ef031a4"
      },
      "outputs": [
        {
          "name": "stdout",
          "output_type": "stream",
          "text": [
            "(21873, 27)\n"
          ]
        },
        {
          "name": "stderr",
          "output_type": "stream",
          "text": [
            "<ipython-input-4-38725f737f5a>:4: SettingWithCopyWarning: \n",
            "A value is trying to be set on a copy of a slice from a DataFrame.\n",
            "Try using .loc[row_indexer,col_indexer] = value instead\n",
            "\n",
            "See the caveats in the documentation: https://pandas.pydata.org/pandas-docs/stable/user_guide/indexing.html#returning-a-view-versus-a-copy\n",
            "  data_cleaned[col] = pd.to_numeric(data_cleaned[col], errors='coerce')\n"
          ]
        }
      ],
      "source": [
        "# Drop rows with missing values (if feasible)\n",
        "data_cleaned = data.dropna()\n",
        "\n",
        "# Filter out outliers using IQR\n",
        "Q1 = data_cleaned.quantile(0.25)\n",
        "Q3 = data_cleaned.quantile(0.75)\n",
        "IQR = Q3 - Q1\n",
        "data_filtered = data_cleaned[~((data_cleaned < (Q1 - 1.5 * IQR)) | (data_cleaned > (Q3 + 1.5 * IQR))).any(axis=1)]\n",
        "\n",
        "print(data_filtered.shape)\n"
      ]
    }
  ],
  "metadata": {
    "colab": {
      "provenance": [],
      "authorship_tag": "ABX9TyPCHZAWZ/Xght4v20UKdv6X",
      "include_colab_link": true
    },
    "kernelspec": {
      "display_name": "Python 3",
      "name": "python3"
    },
    "language_info": {
      "name": "python"
    }
  },
  "nbformat": 4,
  "nbformat_minor": 0
}